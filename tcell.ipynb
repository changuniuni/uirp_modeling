{
 "cells": [
  {
   "cell_type": "code",
   "execution_count": 1,
   "id": "54aa485f",
   "metadata": {},
   "outputs": [
    {
     "ename": "LoadError",
     "evalue": "UndefVarError: int not defined",
     "output_type": "error",
     "traceback": [
      "UndefVarError: int not defined",
      "",
      "Stacktrace:",
      " [1] top-level scope",
      "   @ In[1]:4",
      " [2] eval",
      "   @ ./boot.jl:360 [inlined]",
      " [3] include_string(mapexpr::typeof(REPL.softscope), mod::Module, code::String, filename::String)",
      "   @ Base ./loading.jl:1116"
     ]
    }
   ],
   "source": [
    "using Agents\n",
    "\n",
    "\n",
    "mutable struct DCell <: AbstractAgent\n",
    "    id ::Int\n",
    "    pos :: Tuple{int, int}\n",
    "    speed::Float64\n",
    "end\n",
    "\n",
    "mutable struct TCell <: AbstractAgent\n",
    "    id::Int\n",
    "    pos::Tuple{int, int}\n",
    "    speed::Float64\n",
    "end\n",
    "\n",
    "function initialize_model(; \n",
    "    n_dcell = 5, \n",
    "    n_tcell = 10, \n",
    "    speed = 1.0, \n",
    "    extent = (100,100),    \n",
    "    )\n",
    "\n",
    "    space2d = ContinuousSpace(extent; spacing = 3.0)\n",
    "    model_dcell = ABM(DCell, space2d, scheduler = Schedulers.Randomly())\n",
    "    model_tcell = ABM(TCell, space2d,  scheduler = Schedulers.Randomly())\n",
    "\n",
    "    for _ in 1:n_tcell\n",
    "        add_agent!(\n",
    "            model_tcell,\n",
    "            speed,\n",
    "        )\n",
    "    for _ in 1:n_dcell\n",
    "        add_agent!(\n",
    "            model_dcell,\n",
    "            speed\n",
    "        )\n",
    "    end\n",
    "    return model_dcell, model_tcell\n",
    "end\n",
    "\n",
    "\n",
    "\n"
   ]
  },
  {
   "cell_type": "code",
   "execution_count": null,
   "id": "9f509235",
   "metadata": {},
   "outputs": [],
   "source": []
  }
 ],
 "metadata": {
  "kernelspec": {
   "display_name": "Julia 1.6.7",
   "language": "julia",
   "name": "julia-1.6"
  },
  "language_info": {
   "file_extension": ".jl",
   "mimetype": "application/julia",
   "name": "julia",
   "version": "1.6.7"
  }
 },
 "nbformat": 4,
 "nbformat_minor": 5
}
