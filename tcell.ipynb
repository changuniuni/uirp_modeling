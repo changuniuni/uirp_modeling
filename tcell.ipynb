{
 "cells": [
  {
   "cell_type": "code",
   "execution_count": 1,
   "id": "54aa485f",
   "metadata": {},
   "outputs": [],
   "source": [
    "using Agents\n",
    "using Random\n",
    "using InteractiveDynamics\n",
    "using CairoMakie\n",
    "\n",
    "@agent tcell ContinuousAgent{2} begin\n",
    "    activation_status::Int\n",
    "    has_been_activated::Bool\n",
    "end\n",
    "\n",
    "@agent dcell ContinuousAgent{2} begin\n",
    "        activation_status::Int\n",
    "end"
   ]
  },
  {
   "cell_type": "code",
   "execution_count": 22,
   "id": "9f509235",
   "metadata": {},
   "outputs": [
    {
     "data": {
      "text/plain": [
       "initialize_model (generic function with 1 method)"
      ]
     },
     "execution_count": 22,
     "metadata": {},
     "output_type": "execute_result"
    }
   ],
   "source": [
    "cells = Union{tcell, dcell}\n",
    "\n",
    "function initialize_model(; \n",
    "    n_dcell = 30, \n",
    "    n_tcell = 30, \n",
    "    speed = 2,\n",
    "    extent = (300,300),    \n",
    "    visual_distance = 5.0,\n",
    "    activation_status = 0,\n",
    "     has_been_activated = false\n",
    "    )\n",
    "\n",
    "    space2d = ContinuousSpace(extent; spacing = 10,)\n",
    "    \n",
    "    model = ABM(cells, space2d ,rng = MersenneTwister(30),properties = Dict(:dt => 1.0); \n",
    "        scheduler = Schedulers.randomly)\n",
    "\n",
    "    #scale the random number\n",
    "    \n",
    "    for _ in 1:n_tcell\n",
    "        pos = Tuple(rand(model.rng, 2)).*300\n",
    "        vel = sincos(2π * rand(model.rng)) .* speed \n",
    "        add_agent!(\n",
    "            pos, tcell, model , vel, activation_status, has_been_activated\n",
    "        )\n",
    "    end\n",
    "    \n",
    "    for _ in 1:n_dcell\n",
    "        pos = Tuple(rand(model.rng, 2)).*300\n",
    "        vel = sincos(2π * rand(model.rng)) .* speed .* 0.001\n",
    "        add_agent!(\n",
    "            pos, dcell, model, vel, activation_status\n",
    "        )\n",
    "    end\n",
    "\n",
    "    return model\n",
    "end"
   ]
  },
  {
   "cell_type": "code",
   "execution_count": 29,
   "id": "c55eb19f",
   "metadata": {},
   "outputs": [
    {
     "name": "stderr",
     "output_type": "stream",
     "text": [
      "┌ Warning: AgentType is not concrete. If your agent is parametrically typed, you're probably\n",
      "│ seeing this warning because you gave `Agent` instead of `Agent{Float64}`\n",
      "│ (for example) to this function. You can also create an instance of your agent\n",
      "│ and pass it to this function. If you want to use `Union` types for mixed agent\n",
      "│ models, you can silence this warning.\n",
      "└ @ Agents /Users/kimchanghyeon/.julia/packages/Agents/QtIUJ/src/core/model.jl:299\n"
     ]
    },
    {
     "ename": "LoadError",
     "evalue": "syntax: use \"elseif\" instead of \"else if\"",
     "output_type": "error",
     "traceback": [
      "syntax: use \"elseif\" instead of \"else if\"",
      "",
      "Stacktrace:",
      " [1] top-level scope",
      "   @ In[29]:12",
      " [2] eval",
      "   @ ./boot.jl:360 [inlined]",
      " [3] include_string(mapexpr::typeof(REPL.softscope), mod::Module, code::String, filename::String)",
      "   @ Base ./loading.jl:1116"
     ]
    }
   ],
   "source": [
    "model = initialize_model()\n",
    "\n",
    "function agent_step!(cells,model;\n",
    "        speed = 5,\n",
    "       )\n",
    "     \n",
    "#     tcell.vel = sincos(2π * rand(model.rng)) .* speed \n",
    "#     dcell.vel = sincos(2π * rand(model.rng)) .* speed  .* 0.6\n",
    "    \n",
    "    if cells isa dcell\n",
    "        cells.vel = sincos(2π * rand(model.rng)) .* speed .* 0.001\n",
    "    else if cells isa tcell\n",
    "        cells.vel = sincos(2π * rand(model.rng)) .* speed .*10\n",
    "\n",
    "    end\n",
    "    \n",
    "        \n",
    "     neighbor_ids = nearby_ids(cells,model,20)\n",
    "    #neighbor of tcell \n",
    "    #neighbor of dcell\n",
    "    N = 0\n",
    "    \n",
    "#     for id in neighbor_ids\n",
    "#         N += 1\n",
    "#         neighbor = model[id].pos\n",
    "            \n",
    "#         if euclidean_distance(tcell.pos, neighbor, model) < 10\n",
    "#                 model[id].activated = true\n",
    "    \n",
    "#             end\n",
    "#         end\n",
    "#     end\n",
    "    \n",
    "\n",
    "    \n",
    "    move_agent!(cells, model, model.dt)\n",
    "end\n",
    "\n",
    "CairoMakie.activate!()\n",
    "\n"
   ]
  },
  {
   "cell_type": "code",
   "execution_count": 30,
   "id": "c633866e",
   "metadata": {},
   "outputs": [
    {
     "data": {
      "text/plain": [
       "acolor (generic function with 1 method)"
      ]
     },
     "execution_count": 30,
     "metadata": {},
     "output_type": "execute_result"
    }
   ],
   "source": [
    "# offset(a) = a isa tcell ? (-0.1, -0.1*rand()) : (+0.1, +0.1*rand())\n",
    "ashape(a) = a isa tcell ? :circle : :circle\n",
    "asize(a) = a isa dcell ? 15 : 5\n",
    "acolor(a) = a.activation_status > 0 ? :blue : :black\n",
    "# ac(dcell) = :blue\n",
    "# ac(tcell) = :black"
   ]
  },
  {
   "cell_type": "code",
   "execution_count": 31,
   "id": "6c5c2cce",
   "metadata": {},
   "outputs": [],
   "source": [
    "abmvideo(\"tcell.mp4\", model, agent_step!;\n",
    "title = \"immune cell\", framerate  = 5, \n",
    "    frames = 200, as=asize, am = ashape, ac = acolor)"
   ]
  },
  {
   "cell_type": "code",
   "execution_count": null,
   "id": "01338626",
   "metadata": {},
   "outputs": [],
   "source": [
    "\n",
    "   "
   ]
  }
 ],
 "metadata": {
  "kernelspec": {
   "display_name": "Julia 1.6.7",
   "language": "julia",
   "name": "julia-1.6"
  },
  "language_info": {
   "file_extension": ".jl",
   "mimetype": "application/julia",
   "name": "julia",
   "version": "1.6.7"
  }
 },
 "nbformat": 4,
 "nbformat_minor": 5
}
