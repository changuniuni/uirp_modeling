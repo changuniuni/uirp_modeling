{
 "cells": [
  {
   "cell_type": "code",
   "execution_count": 29,
   "id": "54aa485f",
   "metadata": {},
   "outputs": [],
   "source": [
    "using Agents\n",
    "using Random\n",
    "using InteractiveDynamics\n",
    "using CairoMakie\n",
    "\n",
    "@agent tcell ContinuousAgent{2} begin\n",
    "    activation_status::Float64\n",
    "    has_been_activated::Bool\n",
    "    time_after_activation::Int\n",
    "    is_currently_activated::Bool\n",
    "end\n",
    "\n",
    "@agent dcell ContinuousAgent{2} begin\n",
    "    activation_status::Float64\n",
    "    time_after_activation::Int\n",
    "    is_currently_activated::Bool\n",
    "end"
   ]
  },
  {
   "cell_type": "code",
   "execution_count": 30,
   "id": "9f509235",
   "metadata": {},
   "outputs": [
    {
     "data": {
      "text/plain": [
       "initialize_model (generic function with 1 method)"
      ]
     },
     "execution_count": 30,
     "metadata": {},
     "output_type": "execute_result"
    }
   ],
   "source": [
    "cells = Union{tcell, dcell}\n",
    "\n",
    "function initialize_model(; \n",
    "    n_dcell = 30, \n",
    "    n_tcell = 40, \n",
    "    speed = 2,\n",
    "    extent = (900,900),    \n",
    "    visual_distance = 5.0,\n",
    "    activation_status = 0.0,\n",
    "     has_been_activated = false,\n",
    "    time_after_activation = 0, \n",
    "    is_currently_activated = false,\n",
    "    )\n",
    "\n",
    "    space2d = ContinuousSpace(extent; spacing = 10,)\n",
    "    \n",
    "    model = ABM(cells, space2d ,rng = MersenneTwister(30),properties = Dict(:dt => 1.0); \n",
    "        scheduler = Schedulers.randomly)\n",
    "\n",
    "    #scale the random number\n",
    "    \n",
    "    for _ in 1:n_tcell\n",
    "        pos = Tuple(rand(model.rng, 2)).*300\n",
    "        vel = sincos(2π * rand(model.rng)) .* speed \n",
    "        add_agent!(\n",
    "            pos, tcell, model , vel, activation_status, has_been_activated, time_after_activation, is_currently_activated\n",
    "        )\n",
    "    end\n",
    "    \n",
    "    for _ in 1:n_dcell\n",
    "        pos = Tuple(rand(model.rng, 2)).*300\n",
    "        vel = sincos(2π * rand(model.rng)) .* speed .* 0.6\n",
    "        add_agent!(\n",
    "            pos, dcell, model, vel, activation_status, time_after_activation, is_currently_activated\n",
    "        )\n",
    "    end\n",
    "    \n",
    "\n",
    "\n",
    "    return model\n",
    "end"
   ]
  },
  {
   "cell_type": "code",
   "execution_count": 51,
   "id": "c55eb19f",
   "metadata": {},
   "outputs": [
    {
     "name": "stderr",
     "output_type": "stream",
     "text": [
      "┌ Warning: AgentType is not concrete. If your agent is parametrically typed, you're probably\n",
      "│ seeing this warning because you gave `Agent` instead of `Agent{Float64}`\n",
      "│ (for example) to this function. You can also create an instance of your agent\n",
      "│ and pass it to this function. If you want to use `Union` types for mixed agent\n",
      "│ models, you can silence this warning.\n",
      "└ @ Agents /Users/kimchanghyeon/.julia/packages/Agents/JVXgR/src/core/model.jl:299\n"
     ]
    }
   ],
   "source": [
    "model = initialize_model()\n",
    "\n",
    "function agent_step!(cells, model;\n",
    "        speed = 5,\n",
    "       )\n",
    "    \n",
    "    if cells isa dcell\n",
    "        cells.vel = sincos(2π * rand(model.rng)) .* speed .* 0.6\n",
    "        neighbor_ids = nearby_ids(cells,model,5)\n",
    "        \n",
    "        for id in neighbor_ids\n",
    "            neighbor = model[id]\n",
    "            if neighbor isa tcell && neighbor.has_been_activated == false\n",
    "                cells.vel = (0,0)\n",
    "            end\n",
    "        end   \n",
    "    \n",
    "    else  #tcell case\n",
    "        cells.vel = sincos(2π * rand(model.rng)) .* speed \n",
    "        neighbor_ids = nearby_ids(cells,model,5)\n",
    "        \n",
    "        if cells.activation_status > 100\n",
    "                cells.is_currently_activated = true\n",
    "            else\n",
    "                cells.is_currently_activated = false    \n",
    "        end\n",
    "        \n",
    "#         if cells.id ==1\n",
    "#             print(cells.activation_status)\n",
    "#             print('\\n')\n",
    "#         end\n",
    "        \n",
    "        \n",
    "        for id in neighbor_ids\n",
    "            neighbor = model[id]\n",
    "            \n",
    "            if neighbor isa dcell && cells.has_been_activated == false\n",
    "                   cells.has_been_activated = true\n",
    "                   cells.vel = (0,0)\n",
    "                   cells.activation_status +=1\n",
    "#                    cells.activation_status += 1/240\n",
    "                   cells.time_after_activation += 1\n",
    "                break\n",
    "                \n",
    "            elseif neighbor isa dcell && cells.has_been_activated == true &&cells.time_after_activation< 1440\n",
    "                    cells.time_after_activation += 1\n",
    "                    cells.vel = (0,0)\n",
    "                    cells.activation_status +=1\n",
    "\n",
    "#                     cells.activation_status += 1/240\n",
    "                    break\n",
    "                \n",
    "                \n",
    "            elseif cells.time_after_activation >= 1440\n",
    "                    cells.vel = sincos(2π * rand(model.rng)) .* speed\n",
    "                    cells.activation_status -=5\n",
    "                    cells.time_after_activation += 1\n",
    "#                     cells.activation_status -= 1/60\n",
    "                    break\n",
    "            end    \n",
    "        end\n",
    "    end\n",
    "    \n",
    "    move_agent!(cells, model, model.dt)\n",
    "end\n",
    "\n",
    "CairoMakie.activate!()\n",
    "\n"
   ]
  },
  {
   "cell_type": "code",
   "execution_count": 52,
   "id": "2dd4361e",
   "metadata": {},
   "outputs": [
    {
     "data": {
      "text/plain": [
       "(\u001b[1m100001×4 DataFrame\u001b[0m\n",
       "\u001b[1m    Row \u001b[0m│\u001b[1m step   \u001b[0m\u001b[1m count_istcell \u001b[0m\u001b[1m count_isdcell \u001b[0m\u001b[1m count_iscurrently_activated \u001b[0m\n",
       "        │\u001b[90m Int64  \u001b[0m\u001b[90m Int64         \u001b[0m\u001b[90m Int64         \u001b[0m\u001b[90m Int64                       \u001b[0m\n",
       "────────┼───────────────────────────────────────────────────────────────────\n",
       "      1 │      0             40             30                            0\n",
       "      2 │      1             40             30                            0\n",
       "      3 │      2             40             30                            0\n",
       "      4 │      3             40             30                            0\n",
       "      5 │      4             40             30                            0\n",
       "      6 │      5             40             30                            0\n",
       "      7 │      6             40             30                            0\n",
       "      8 │      7             40             30                            0\n",
       "      9 │      8             40             30                            0\n",
       "     10 │      9             40             30                            0\n",
       "     11 │     10             40             30                            0\n",
       "   ⋮    │   ⋮           ⋮              ⋮                     ⋮\n",
       "  99992 │  99991             40             30                            0\n",
       "  99993 │  99992             40             30                            0\n",
       "  99994 │  99993             40             30                            0\n",
       "  99995 │  99994             40             30                            0\n",
       "  99996 │  99995             40             30                            0\n",
       "  99997 │  99996             40             30                            0\n",
       "  99998 │  99997             40             30                            0\n",
       "  99999 │  99998             40             30                            0\n",
       " 100000 │  99999             40             30                            0\n",
       " 100001 │ 100000             40             30                            0\n",
       "\u001b[36m                                                          99980 rows omitted\u001b[0m, \u001b[1m0×0 DataFrame\u001b[0m)"
      ]
     },
     "execution_count": 52,
     "metadata": {},
     "output_type": "execute_result"
    }
   ],
   "source": [
    "istcell(a) = a isa tcell\n",
    "isdcell(a) = a isa dcell\n",
    "iscurrently_activated(a) = a.is_currently_activated == true\n",
    "\n",
    "steps = 100000\n",
    "adata = [(istcell,count),(isdcell,count), (iscurrently_activated, count)]\n",
    "adf, mdf= run!(model, agent_step!, steps; adata)\n"
   ]
  },
  {
   "cell_type": "code",
   "execution_count": 54,
   "id": "2a3c7bcd",
   "metadata": {},
   "outputs": [
    {
     "data": {
      "image/png": "[encoded data removed]",
      "text/plain": [
       "Figure()"
      ]
     },
     "execution_count": 54,
     "metadata": {},
     "output_type": "execute_result"
    }
   ],
   "source": [
    "function plot_population(adf, mdf)\n",
    "    figure = Figure(resolution = (600, 400))\n",
    "    ax = figure[1, 1] = Axis(figure; xlabel = \"Step\", ylabel = \"Population\")\n",
    "    tcell_l = lines!(ax, adf.step, adf.count_istcell, color = :black)\n",
    "    dcell_l = lines!(ax, adf.step, adf.count_isdcell, color = :blue)\n",
    "    activated_l = lines!(ax, adf.step, adf.count_iscurrently_activated, color = :orange)\n",
    "    figure[1, 2] = Legend(figure, [tcell_l, dcell_l, activated_l], [\"tcell\",\"dcell\",\"activated\"])\n",
    "    figure\n",
    "end\n",
    "\n",
    "plot_population(adf, mdf)\n",
    "    "
   ]
  },
  {
   "cell_type": "code",
   "execution_count": 18,
   "id": "c633866e",
   "metadata": {},
   "outputs": [
    {
     "data": {
      "text/plain": [
       "acolor (generic function with 1 method)"
      ]
     },
     "execution_count": 18,
     "metadata": {},
     "output_type": "execute_result"
    }
   ],
   "source": [
    "# offset(a) = a isa tcell ? (-0.1, -0.1*rand()) : (+0.1, +0.1*rand())\n",
    "ashape(a) = :circle\n",
    "asize(a) = a isa dcell ? 20 : 10\n",
    "acolor(a) = a.activation_status > 0 ? :blue : :black\n",
    "# ac(dcell) = :blue\n",
    "# ac(tcell) = :black"
   ]
  },
  {
   "cell_type": "code",
   "execution_count": 19,
   "id": "6c5c2cce",
   "metadata": {},
   "outputs": [],
   "source": [
    "abmvideo(\"tcell.mp4\", model, agent_step!;\n",
    "title = \"immune cell\", framerate  = 100, \n",
    "    frames = 2880, as=asize, am = ashape, ac = acolor)"
   ]
  },
  {
   "cell_type": "code",
   "execution_count": null,
   "id": "5eaf7ef6",
   "metadata": {},
   "outputs": [],
   "source": [
    "tcell dcell detach 될때 다시 값 감소 해서 색깔 바뀌는 것 구현\n",
    "\n",
    "   "
   ]
  }
 ],
 "metadata": {
  "kernelspec": {
   "display_name": "Julia 1.8.2",
   "language": "julia",
   "name": "julia-1.8"
  },
  "language_info": {
   "file_extension": ".jl",
   "mimetype": "application/julia",
   "name": "julia",
   "version": "1.8.2"
  }
 },
 "nbformat": 4,
 "nbformat_minor": 5
}
