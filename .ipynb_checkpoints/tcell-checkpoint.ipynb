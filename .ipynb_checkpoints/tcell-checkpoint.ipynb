{
 "cells": [
  {
   "cell_type": "code",
   "execution_count": 1,
   "id": "54aa485f",
   "metadata": {},
   "outputs": [],
   "source": [
    "using Agents\n",
    "using Random\n",
    "using InteractiveDynamics\n",
    "using CairoMakie\n",
    "\n",
    "@agent tcell ContinuousAgent{2} begin\n",
    "    activated::Bool\n",
    "end\n",
    "\n",
    "@agent dcell ContinuousAgent{2} begin\n",
    "    activated::Bool\n",
    "end"
   ]
  },
  {
   "cell_type": "code",
   "execution_count": 68,
   "id": "9f509235",
   "metadata": {},
   "outputs": [
    {
     "data": {
      "text/plain": [
       "initialize_model (generic function with 1 method)"
      ]
     },
     "execution_count": 68,
     "metadata": {},
     "output_type": "execute_result"
    }
   ],
   "source": [
    "cells = Union{tcell, dcell}\n",
    "\n",
    "function initialize_model(; \n",
    "    n_dcell = 5, \n",
    "    n_tcell = 10, \n",
    "    speed = 0.02,\n",
    "    extent = (1,1),    \n",
    "    visual_distance = 5.0,\n",
    "    temp_tuple = (1.0,1.0),\n",
    "    activated_status = false\n",
    "    )\n",
    "\n",
    "    space2d = ContinuousSpace(extent; spacing = 0.02,)\n",
    "    \n",
    "    model = ABM(cells, space2d ,rng = MersenneTwister(42),properties = Dict(:dt => 1.0); \n",
    "        scheduler = Schedulers.randomly)\n",
    "\n",
    "    for _ in 1:n_tcell\n",
    "        pos = Tuple(rand(model.rng, 2))\n",
    "        vel = sincos(2π * rand(model.rng)) .* speed \n",
    "        add_agent!(\n",
    "            pos, tcell, model , vel, activated_status\n",
    "        )\n",
    "    end\n",
    "    \n",
    "    for _ in 1:n_dcell\n",
    "        pos = Tuple(rand(model.rng, 2))\n",
    "        vel = sincos(2π * rand(model.rng)) .* speed\n",
    "        add_agent!(\n",
    "            pos, dcell, model, vel, activated_status\n",
    "        )\n",
    "    end\n",
    "\n",
    "    return model\n",
    "end"
   ]
  },
  {
   "cell_type": "code",
   "execution_count": 69,
   "id": "c55eb19f",
   "metadata": {},
   "outputs": [
    {
     "name": "stderr",
     "output_type": "stream",
     "text": [
      "┌ Warning: AgentType is not concrete. If your agent is parametrically typed, you're probably\n",
      "│ seeing this warning because you gave `Agent` instead of `Agent{Float64}`\n",
      "│ (for example) to this function. You can also create an instance of your agent\n",
      "│ and pass it to this function. If you want to use `Union` types for mixed agent\n",
      "│ models, you can silence this warning.\n",
      "└ @ Agents /Users/kimchanghyeon/.julia/packages/Agents/QtIUJ/src/core/model.jl:299\n"
     ]
    }
   ],
   "source": [
    "# function agent_step!(cells, model)\n",
    "#     direction = (2.0,-3.0)\n",
    "#     walk!(cells, direction, model)\n",
    "# end\n",
    "model = initialize_model()\n",
    "\n",
    "agent_step!(cells, model) = move_agent!(cells, model, model.dt)\n",
    "\n",
    "CairoMakie.activate!()\n",
    "\n",
    "# const cell_polygon = Polygon(Point2f[(-0.5, -0.5), (1, 0), (-0.5, 0.5)])\n",
    "# function cell_marker(b::cells)\n",
    "#     φ = atan(b.vel[2], b.vel[1]) #+ π/2 + π\n",
    "#     scale(rotate2D(cell_polygon, φ), 2)\n",
    "# end"
   ]
  },
  {
   "cell_type": "code",
   "execution_count": 76,
   "id": "c633866e",
   "metadata": {},
   "outputs": [
    {
     "data": {
      "text/plain": [
       "asize (generic function with 1 method)"
      ]
     },
     "execution_count": 76,
     "metadata": {},
     "output_type": "execute_result"
    }
   ],
   "source": [
    "# offset(a) = a isa tcell ? (-0.1, -0.1*rand()) : (+0.1, +0.1*rand())\n",
    "ashape(a) = a isa tcell ? :circle : :utriangle\n",
    "asize(a) = a isa dcell ? 40 : 25\n",
    "# acolor(a) = a isa tcell ? RGBAf(1.0, 1.0, 1.0, 0.8) : RGBAf(0.2, 0.2, 0.3, 0.8)\n",
    "# ac(dcell) = :blue\n",
    "# ac(tcell) = :black"
   ]
  },
  {
   "cell_type": "code",
   "execution_count": 77,
   "id": "6c5c2cce",
   "metadata": {},
   "outputs": [],
   "source": [
    "abmvideo(\"tcell.mp4\", model, agent_step!;\n",
    "title = \"imuune cell\", framerate  = 5, \n",
    "    frames = 100, as=asize, am = ashape)"
   ]
  },
  {
   "cell_type": "code",
   "execution_count": null,
   "id": "0a8ed8c7",
   "metadata": {},
   "outputs": [],
   "source": []
  }
 ],
 "metadata": {
  "kernelspec": {
   "display_name": "Julia 1.6.7",
   "language": "julia",
   "name": "julia-1.6"
  },
  "language_info": {
   "file_extension": ".jl",
   "mimetype": "application/julia",
   "name": "julia",
   "version": "1.6.7"
  }
 },
 "nbformat": 4,
 "nbformat_minor": 5
}
