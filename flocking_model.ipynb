{
 "cells": [
  {
   "cell_type": "code",
   "execution_count": 1,
   "id": "f672f409",
   "metadata": {},
   "outputs": [
    {
     "name": "stderr",
     "output_type": "stream",
     "text": [
      "┌ Info: Precompiling InteractiveDynamics [ec714cd0-5f51-11eb-0b6e-452e7367ff84]\n",
      "└ @ Base loading.jl:1342\n",
      "┌ Info: Precompiling CairoMakie [13f3f980-e62b-5c42-98c6-ff1f3baf88f0]\n",
      "└ @ Base loading.jl:1342\n"
     ]
    }
   ],
   "source": [
    "using Agents, LinearAlgebra\n",
    "using InteractiveDynamics\n",
    "using CairoMakie\n",
    "\n",
    "mutable struct Bird <: AbstractAgent\n",
    "    id::Int\n",
    "    pos::NTuple{2,Float64}\n",
    "    vel::NTuple{2,Float64}\n",
    "    speed::Float64\n",
    "    cohere_factor::Float64\n",
    "    separation::Float64\n",
    "    separate_factor::Float64\n",
    "    match_factor::Float64\n",
    "    visual_distance::Float64\n",
    "    infected::Bool\n",
    "end"
   ]
  },
  {
   "cell_type": "code",
   "execution_count": 2,
   "id": "772957ed",
   "metadata": {},
   "outputs": [
    {
     "name": "stderr",
     "output_type": "stream",
     "text": [
      "\u001b[32m\u001b[1m    Updating\u001b[22m\u001b[39m registry at `~/.julia/registries/General`\n",
      "\u001b[32m\u001b[1m   Resolving\u001b[22m\u001b[39m package versions...\n",
      "\u001b[32m\u001b[1m  No Changes\u001b[22m\u001b[39m to `~/.julia/environments/v1.6/Project.toml`\n",
      "\u001b[32m\u001b[1m  No Changes\u001b[22m\u001b[39m to `~/.julia/environments/v1.6/Manifest.toml`\n"
     ]
    }
   ],
   "source": [
    "import Pkg; Pkg.add(\"InteractiveDynamics\")"
   ]
  },
  {
   "cell_type": "code",
   "execution_count": 3,
   "id": "55095b35",
   "metadata": {},
   "outputs": [
    {
     "data": {
      "text/plain": [
       "initialize_model (generic function with 1 method)"
      ]
     },
     "execution_count": 3,
     "metadata": {},
     "output_type": "execute_result"
    }
   ],
   "source": [
    "function initialize_model(;\n",
    "    n_birds = 100,\n",
    "    speed = 1.0,\n",
    "    cohere_factor = 0.25,\n",
    "    separation = 4.0,\n",
    "    separate_factor = 0.25,\n",
    "    match_factor = 0.01,\n",
    "    visual_distance = 5.0,\n",
    "    extent = (100, 100),\n",
    "    infected  = false,\n",
    ")\n",
    "    space2d = ContinuousSpace(extent; spacing = visual_distance/1.5)\n",
    "    model = ABM(Bird, space2d, scheduler = Schedulers.Randomly())\n",
    "    for _ in 1:n_birds\n",
    "        vel = Tuple(rand(model.rng, 2) * 2 .- 1)\n",
    "        add_agent!(\n",
    "            model,\n",
    "            vel,\n",
    "            speed,\n",
    "            cohere_factor,\n",
    "            separation,\n",
    "            separate_factor,\n",
    "            match_factor,\n",
    "            visual_distance,\n",
    "            infected,\n",
    "        )\n",
    "    end\n",
    "    return model\n",
    "end"
   ]
  },
  {
   "cell_type": "code",
   "execution_count": 24,
   "id": "b867de9d",
   "metadata": {},
   "outputs": [
    {
     "ename": "LoadError",
     "evalue": "syntax: incomplete: \"function\" at In[24]:1 requires end",
     "output_type": "error",
     "traceback": [
      "syntax: incomplete: \"function\" at In[24]:1 requires end",
      "",
      "Stacktrace:",
      " [1] top-level scope",
      "   @ In[24]:1",
      " [2] eval",
      "   @ ./boot.jl:360 [inlined]",
      " [3] include_string(mapexpr::typeof(REPL.softscope), mod::Module, code::String, filename::String)",
      "   @ Base ./loading.jl:1116"
     ]
    }
   ],
   "source": [
    "function agent_step!(bird, model)\n",
    "    # Obtain the ids of neighbors within the bird's visual distance\n",
    "    neighbor_ids = nearby_ids(bird, model, bird.visual_distance)\n",
    "    N = 0\n",
    "    match = separate = cohere = (0.0, 0.0)\n",
    "    # Calculate behaviour properties based on neighbors\n",
    "    \n",
    "   \n",
    "    for id in neighbor_ids\n",
    "        if N == 1\n",
    "            model[id].infected = true;\n",
    "        N += 1\n",
    "        neighbor = model[id].pos\n",
    "        heading = neighbor .- bird.pos\n",
    "\n",
    "        # `cohere` computes the average position of neighboring birds\n",
    "        cohere = cohere .+ heading\n",
    "        if euclidean_distance(bird.pos, neighbor, model) < bird.separation\n",
    "            # `separate` repels the bird away from neighboring birds\n",
    "            separate = separate .- heading\n",
    "            model[id].infected = true;\n",
    "            \n",
    "            \n",
    "            \n",
    "            \n",
    "        end\n",
    "        # `match` computes the average trajectory of neighboring birds\n",
    "        match = match .+ model[id].vel\n",
    "    end\n",
    "    N = max(N, 1)\n",
    "    # Normalise results based on model input and neighbor count\n",
    "    cohere = cohere ./ N .* bird.cohere_factor\n",
    "    separate = separate ./ N .* bird.separate_factor\n",
    "    match = match ./ N .* bird.match_factor\n",
    "    # Compute velocity based on rules defined above\n",
    "    bird.vel = (bird.vel .+ cohere .+ separate .+ match) ./ 2\n",
    "    bird.vel = bird.vel ./ norm(bird.vel)\n",
    "    # Move bird according to new velocity and speed\n",
    "    move_agent!(bird, model, bird.speed)\n",
    "end"
   ]
  },
  {
   "cell_type": "code",
   "execution_count": 16,
   "id": "a3b13cdf",
   "metadata": {},
   "outputs": [
    {
     "name": "stderr",
     "output_type": "stream",
     "text": [
      "WARNING: redefinition of constant bird_polygon. This may fail, cause incorrect answers, or produce other errors.\n"
     ]
    },
    {
     "data": {
      "text/plain": [
       "bird_marker (generic function with 1 method)"
      ]
     },
     "execution_count": 16,
     "metadata": {},
     "output_type": "execute_result"
    }
   ],
   "source": [
    "const bird_polygon = Polygon(Point2f[(-0.5, -0.5), (1, 0), (-0.5, 0.5)])\n",
    "function bird_marker(b::Bird)\n",
    "    φ = atan(b.vel[2], b.vel[1]) #+ π/2 + π\n",
    "    scale(rotate2D(bird_polygon, φ), 2)\n",
    "end"
   ]
  },
  {
   "cell_type": "code",
   "execution_count": 19,
   "id": "eaf712fc",
   "metadata": {},
   "outputs": [
    {
     "data": {
      "image/png": "[encoded data removed]",
      "text/plain": [
       "Figure()"
      ]
     },
     "execution_count": 19,
     "metadata": {},
     "output_type": "execute_result"
    }
   ],
   "source": [
    "using InteractiveDynamics\n",
    "using CairoMakie\n",
    "ac(bird) = bird.infected ? :blue : :black\n",
    "as(bird) = bird.infected ? 10 : 8\n",
    "\n",
    "\n",
    "model = initialize_model()\n",
    "figure, = abmplot(model; am = bird_marker)\n",
    "figure"
   ]
  },
  {
   "cell_type": "code",
   "execution_count": 20,
   "id": "a2e834cb",
   "metadata": {},
   "outputs": [],
   "source": [
    "abmvideo(\n",
    "    \"flocking.mp4\", model, agent_step!;\n",
    "    am = bird_marker,\n",
    "    framerate = 10, frames = 200,\n",
    "    title = \"Flocking\", ac,as,\n",
    ")"
   ]
  },
  {
   "cell_type": "code",
   "execution_count": null,
   "id": "8f45ca47",
   "metadata": {},
   "outputs": [],
   "source": []
  }
 ],
 "metadata": {
  "kernelspec": {
   "display_name": "Julia 1.6.7",
   "language": "julia",
   "name": "julia-1.6"
  },
  "language_info": {
   "file_extension": ".jl",
   "mimetype": "application/julia",
   "name": "julia",
   "version": "1.6.7"
  }
 },
 "nbformat": 4,
 "nbformat_minor": 5
}
